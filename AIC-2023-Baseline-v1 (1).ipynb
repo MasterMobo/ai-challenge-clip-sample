{
 "cells": [
  {
   "cell_type": "markdown",
   "id": "5fcc581b",
   "metadata": {
    "id": "5fcc581b"
   },
   "source": [
    "# BÁO CÁO ĐÁNH GIÁ DỮ LIỆU HUẤN LUYỆN VÀ TEST SET\n",
    "\n",
    "# Hội thi Thử thách Trí tuệ Nhân tạo Thành phố Hồ Chí Minh 2024\n",
    "\n",
    "## Hướng dẫn truy vấn dữ liệu thị giác dùng fiftyone\n",
    "\n",
    "Đây là hướng dẫn dùng cho các đội tham dự AI Challenge 2024. Hướng dẫn này nhằm mục đích giới thiệu cho các đội một phương pháp cơ bản để truy vấn dữ liệu dựa trên thông tin BTC cung cấp và giới thiệu công cụ fiftyone để hỗ trợ đội thi đánh giá kết quả.\n",
    "\n",
    "## Cài đặt ban đầu\n",
    "\n",
    "Bạn cần cài đặt môi trường để chạy được notebook này trên máy tính cá nhân của bạn. Hướng dẫn này không bao gồm phần cài đặt môi trường. Khuyến nghị: các bạn có thể cài đặt [Anaconda](https://docs.anaconda.com/free/anaconda/install/windows/).\n",
    "\n",
    "## Cài đặt các thư viện FiftyOne và PyTorch\n",
    "Hướng dẫn này dùng fiftyone là công cụ để trực quan dữ liệu và pytorch là backend chính cho các thuật toán máy học.\n"
   ]
  },
  {
   "cell_type": "code",
   "execution_count": 1,
   "id": "f5a576d0",
   "metadata": {
    "id": "f5a576d0"
   },
   "outputs": [
    {
     "name": "stdout",
     "output_type": "stream",
     "text": [
      "Collecting fiftyone==0.24.1\n",
      "  Downloading fiftyone-0.24.1-py3-none-any.whl (8.2 MB)\n",
      "Requirement already satisfied: scipy in c:\\users\\admin\\appdata\\local\\programs\\python\\python39\\lib\\site-packages (from fiftyone==0.24.1) (1.13.0)\n",
      "Collecting strawberry-graphql==0.138.1\n",
      "  Downloading strawberry_graphql-0.138.1-py3-none-any.whl (192 kB)\n",
      "Collecting Jinja2==3.0.3\n",
      "  Downloading Jinja2-3.0.3-py3-none-any.whl (133 kB)\n",
      "Requirement already satisfied: numpy in c:\\users\\admin\\appdata\\local\\programs\\python\\python39\\lib\\site-packages (from fiftyone==0.24.1) (1.26.4)\n",
      "Collecting voxel51-eta<0.13,>=0.12.6\n",
      "  Downloading voxel51_eta-0.12.7-py2.py3-none-any.whl (942 kB)\n",
      "Requirement already satisfied: setuptools in c:\\users\\admin\\appdata\\local\\programs\\python\\python39\\lib\\site-packages (from fiftyone==0.24.1) (49.2.1)\n",
      "Collecting opencv-python-headless\n",
      "  Downloading opencv_python_headless-4.10.0.84-cp37-abi3-win_amd64.whl (38.8 MB)\n",
      "Requirement already satisfied: plotly>=4.14 in c:\\users\\admin\\appdata\\local\\programs\\python\\python39\\lib\\site-packages (from fiftyone==0.24.1) (5.20.0)\n",
      "Collecting dacite<1.8.0,>=1.6.0\n",
      "  Downloading dacite-1.7.0-py3-none-any.whl (12 kB)\n",
      "Collecting sse-starlette<1,>=0.10.3\n",
      "  Downloading sse_starlette-0.10.3-py3-none-any.whl (8.0 kB)\n",
      "Collecting cachetools\n",
      "  Downloading cachetools-5.4.0-py3-none-any.whl (9.5 kB)\n",
      "Collecting pprintpp\n",
      "  Downloading pprintpp-0.4.0-py2.py3-none-any.whl (16 kB)\n",
      "Collecting fiftyone-db<2.0,>=0.4\n",
      "  Downloading fiftyone_db-1.1.5-py3-none-win_amd64.whl (20.1 MB)\n",
      "Collecting argcomplete\n",
      "  Downloading argcomplete-3.5.0-py3-none-any.whl (43 kB)\n",
      "Collecting hypercorn>=0.13.2\n",
      "  Downloading hypercorn-0.17.3-py3-none-any.whl (61 kB)\n",
      "Requirement already satisfied: regex in c:\\users\\admin\\appdata\\local\\programs\\python\\python39\\lib\\site-packages (from fiftyone==0.24.1) (2023.12.25)\n",
      "Collecting motor>=2.5\n",
      "  Downloading motor-3.5.1-py3-none-any.whl (74 kB)\n",
      "Collecting xmltodict\n",
      "  Downloading xmltodict-0.13.0-py2.py3-none-any.whl (10.0 kB)\n",
      "Collecting matplotlib\n",
      "  Downloading matplotlib-3.9.2-cp39-cp39-win_amd64.whl (7.8 MB)\n",
      "Requirement already satisfied: packaging in c:\\users\\admin\\appdata\\local\\programs\\python\\python39\\lib\\site-packages (from fiftyone==0.24.1) (24.0)\n",
      "Collecting aiofiles\n",
      "  Downloading aiofiles-24.1.0-py3-none-any.whl (15 kB)\n",
      "Collecting scikit-image\n",
      "  Downloading scikit_image-0.24.0-cp39-cp39-win_amd64.whl (12.9 MB)\n",
      "Collecting tabulate\n",
      "  Downloading tabulate-0.9.0-py3-none-any.whl (35 kB)\n",
      "Collecting fiftyone-brain<0.17,>=0.16.1\n",
      "  Downloading fiftyone_brain-0.16.1-py3-none-any.whl (89 kB)\n",
      "Collecting pandas\n",
      "  Using cached pandas-2.2.2-cp39-cp39-win_amd64.whl (11.6 MB)\n",
      "Collecting beautifulsoup4\n",
      "  Downloading beautifulsoup4-4.12.3-py3-none-any.whl (147 kB)\n",
      "Collecting humanize\n",
      "  Downloading humanize-4.10.0-py3-none-any.whl (126 kB)\n",
      "Collecting mongoengine==0.24.2\n",
      "  Downloading mongoengine-0.24.2-py3-none-any.whl (108 kB)\n",
      "Collecting universal-analytics-python3<2,>=1.0.1\n",
      "  Downloading universal_analytics_python3-1.1.1-py3-none-any.whl (10 kB)\n",
      "Collecting retrying\n",
      "  Downloading retrying-1.3.4-py3-none-any.whl (11 kB)\n",
      "Collecting boto3\n",
      "  Downloading boto3-1.34.159-py3-none-any.whl (139 kB)\n",
      "Requirement already satisfied: Pillow>=6.2 in c:\\users\\admin\\appdata\\local\\programs\\python\\python39\\lib\\site-packages (from fiftyone==0.24.1) (10.3.0)\n",
      "Requirement already satisfied: scikit-learn in c:\\users\\admin\\appdata\\local\\programs\\python\\python39\\lib\\site-packages (from fiftyone==0.24.1) (1.4.2)\n",
      "Collecting sseclient-py<2,>=1.7.2\n",
      "  Downloading sseclient_py-1.8.0-py2.py3-none-any.whl (8.8 kB)\n",
      "Collecting ftfy\n",
      "  Downloading ftfy-6.2.3-py3-none-any.whl (43 kB)\n",
      "Collecting pytz\n",
      "  Using cached pytz-2024.1-py2.py3-none-any.whl (505 kB)\n",
      "Collecting pymongo>=3.12\n",
      "  Downloading pymongo-4.8.0-cp39-cp39-win_amd64.whl (533 kB)\n",
      "Collecting starlette>=0.24.0\n",
      "  Downloading starlette-0.38.2-py3-none-any.whl (72 kB)\n",
      "Collecting Deprecated\n",
      "  Downloading Deprecated-1.2.14-py2.py3-none-any.whl (9.6 kB)\n",
      "Collecting kaleido!=0.2.1.post1\n",
      "  Downloading kaleido-0.2.1-py2.py3-none-win_amd64.whl (65.9 MB)\n",
      "Collecting psutil\n",
      "  Downloading psutil-6.0.0-cp37-abi3-win_amd64.whl (257 kB)\n",
      "Requirement already satisfied: PyYAML in c:\\users\\admin\\appdata\\local\\programs\\python\\python39\\lib\\site-packages (from fiftyone==0.24.1) (6.0.1)\n",
      "Collecting graphql-core<3.3.0,>=3.2.0\n",
      "  Downloading graphql_core-3.2.3-py3-none-any.whl (202 kB)\n",
      "Requirement already satisfied: typing_extensions<5.0.0,>=3.7.4 in c:\\users\\admin\\appdata\\local\\programs\\python\\python39\\lib\\site-packages (from strawberry-graphql==0.138.1->fiftyone==0.24.1) (4.11.0)\n",
      "Collecting python-dateutil<3.0.0,>=2.7.0\n",
      "  Using cached python_dateutil-2.9.0.post0-py2.py3-none-any.whl (229 kB)\n",
      "Requirement already satisfied: MarkupSafe>=2.0 in c:\\users\\admin\\appdata\\local\\programs\\python\\python39\\lib\\site-packages (from Jinja2==3.0.3->fiftyone==0.24.1) (2.1.5)\n",
      "Collecting six\n",
      "  Using cached six-1.16.0-py2.py3-none-any.whl (11 kB)\n",
      "Collecting glob2\n",
      "  Downloading glob2-0.7.tar.gz (10 kB)\n",
      "Collecting jsonlines\n",
      "  Downloading jsonlines-4.0.0-py3-none-any.whl (8.7 kB)\n",
      "Collecting future\n",
      "  Downloading future-1.0.0-py3-none-any.whl (491 kB)\n",
      "Collecting py7zr\n",
      "  Downloading py7zr-0.22.0-py3-none-any.whl (67 kB)\n",
      "Collecting dill\n",
      "  Downloading dill-0.3.8-py3-none-any.whl (116 kB)\n",
      "Collecting tzlocal\n",
      "  Downloading tzlocal-5.2-py3-none-any.whl (17 kB)\n",
      "Requirement already satisfied: requests in c:\\users\\admin\\appdata\\local\\programs\\python\\python39\\lib\\site-packages (from voxel51-eta<0.13,>=0.12.6->fiftyone==0.24.1) (2.31.0)\n",
      "Requirement already satisfied: urllib3 in c:\\users\\admin\\appdata\\local\\programs\\python\\python39\\lib\\site-packages (from voxel51-eta<0.13,>=0.12.6->fiftyone==0.24.1) (2.1.0)\n",
      "Collecting sortedcontainers\n",
      "  Downloading sortedcontainers-2.4.0-py2.py3-none-any.whl (29 kB)\n",
      "Collecting rarfile\n",
      "  Downloading rarfile-4.2-py3-none-any.whl (29 kB)\n",
      "Requirement already satisfied: tenacity>=6.2.0 in c:\\users\\admin\\appdata\\local\\programs\\python\\python39\\lib\\site-packages (from plotly>=4.14->fiftyone==0.24.1) (8.2.3)\n",
      "Collecting wsproto>=0.14.0\n",
      "  Downloading wsproto-1.2.0-py3-none-any.whl (24 kB)\n",
      "Collecting h11\n",
      "  Downloading h11-0.14.0-py3-none-any.whl (58 kB)\n",
      "Collecting tomli; python_version < \"3.11\"\n",
      "  Downloading tomli-2.0.1-py3-none-any.whl (12 kB)\n",
      "Collecting exceptiongroup>=1.1.0; python_version < \"3.11\"\n",
      "  Downloading exceptiongroup-1.2.2-py3-none-any.whl (16 kB)\n",
      "Collecting h2>=3.1.0\n",
      "  Downloading h2-4.1.0-py3-none-any.whl (57 kB)\n",
      "Collecting taskgroup; python_version < \"3.11\"\n",
      "  Downloading taskgroup-0.0.0a4-py2.py3-none-any.whl (9.1 kB)\n",
      "Collecting priority\n",
      "  Downloading priority-2.0.0-py3-none-any.whl (8.9 kB)\n",
      "Collecting fonttools>=4.22.0\n",
      "  Downloading fonttools-4.53.1-cp39-cp39-win_amd64.whl (2.2 MB)\n",
      "Collecting importlib-resources>=3.2.0; python_version < \"3.10\"\n",
      "  Downloading importlib_resources-6.4.0-py3-none-any.whl (38 kB)\n",
      "Collecting cycler>=0.10\n",
      "  Downloading cycler-0.12.1-py3-none-any.whl (8.3 kB)\n",
      "Collecting pyparsing>=2.3.1\n",
      "  Downloading pyparsing-3.1.2-py3-none-any.whl (103 kB)\n",
      "Collecting contourpy>=1.0.1\n",
      "  Downloading contourpy-1.2.1-cp39-cp39-win_amd64.whl (182 kB)\n",
      "Collecting kiwisolver>=1.3.1\n",
      "  Downloading kiwisolver-1.4.5-cp39-cp39-win_amd64.whl (56 kB)\n",
      "Requirement already satisfied: networkx>=2.8 in c:\\users\\admin\\appdata\\local\\programs\\python\\python39\\lib\\site-packages (from scikit-image->fiftyone==0.24.1) (3.2.1)\n",
      "Collecting imageio>=2.33\n",
      "  Downloading imageio-2.35.0-py3-none-any.whl (315 kB)\n",
      "Collecting lazy-loader>=0.4\n",
      "  Downloading lazy_loader-0.4-py3-none-any.whl (12 kB)\n",
      "Collecting tifffile>=2022.8.12\n",
      "  Downloading tifffile-2024.8.10-py3-none-any.whl (225 kB)\n",
      "Collecting tzdata>=2022.7\n",
      "  Using cached tzdata-2024.1-py2.py3-none-any.whl (345 kB)\n",
      "Collecting soupsieve>1.2\n",
      "  Downloading soupsieve-2.6-py3-none-any.whl (36 kB)\n",
      "Collecting httpx>=0.10.0\n",
      "  Downloading httpx-0.27.0-py3-none-any.whl (75 kB)\n",
      "Collecting botocore<1.35.0,>=1.34.159\n",
      "  Downloading botocore-1.34.159-py3-none-any.whl (12.5 MB)\n",
      "Collecting s3transfer<0.11.0,>=0.10.0\n",
      "  Downloading s3transfer-0.10.2-py3-none-any.whl (82 kB)\n",
      "Collecting jmespath<2.0.0,>=0.7.1\n",
      "  Using cached jmespath-1.0.1-py3-none-any.whl (20 kB)\n",
      "Requirement already satisfied: joblib>=1.2.0 in c:\\users\\admin\\appdata\\local\\programs\\python\\python39\\lib\\site-packages (from scikit-learn->fiftyone==0.24.1) (1.4.0)\n",
      "Requirement already satisfied: threadpoolctl>=2.0.0 in c:\\users\\admin\\appdata\\local\\programs\\python\\python39\\lib\\site-packages (from scikit-learn->fiftyone==0.24.1) (3.4.0)\n",
      "Collecting wcwidth<0.3.0,>=0.2.12\n",
      "  Downloading wcwidth-0.2.13-py2.py3-none-any.whl (34 kB)\n",
      "Collecting dnspython<3.0.0,>=1.16.0\n",
      "  Downloading dnspython-2.6.1-py3-none-any.whl (307 kB)\n",
      "Collecting anyio<5,>=3.4.0\n",
      "  Downloading anyio-4.4.0-py3-none-any.whl (86 kB)\n",
      "Collecting wrapt<2,>=1.10\n",
      "  Using cached wrapt-1.16.0-cp39-cp39-win_amd64.whl (37 kB)\n",
      "Collecting attrs>=19.2.0\n",
      "  Downloading attrs-24.2.0-py3-none-any.whl (63 kB)\n",
      "Collecting multivolumefile>=0.2.3\n",
      "  Downloading multivolumefile-0.2.3-py3-none-any.whl (17 kB)\n",
      "Collecting pybcj<1.1.0,>=1.0.0\n",
      "  Downloading pybcj-1.0.2-cp39-cp39-win_amd64.whl (24 kB)\n",
      "Collecting pycryptodomex>=3.16.0\n",
      "  Downloading pycryptodomex-3.20.0-cp35-abi3-win_amd64.whl (1.8 MB)\n",
      "Collecting pyppmd<1.2.0,>=1.1.0\n",
      "  Downloading pyppmd-1.1.0-cp39-cp39-win_amd64.whl (46 kB)\n",
      "Collecting pyzstd>=0.15.9\n",
      "  Downloading pyzstd-0.16.1-cp39-cp39-win_amd64.whl (244 kB)\n",
      "Collecting inflate64<1.1.0,>=1.0.0\n",
      "  Downloading inflate64-1.0.0-cp39-cp39-win_amd64.whl (35 kB)\n",
      "Collecting texttable\n",
      "  Downloading texttable-1.7.0-py2.py3-none-any.whl (10 kB)\n",
      "Collecting brotli>=1.1.0; platform_python_implementation == \"CPython\"\n",
      "  Downloading Brotli-1.1.0-cp39-cp39-win_amd64.whl (357 kB)\n",
      "Requirement already satisfied: charset-normalizer<4,>=2 in c:\\users\\admin\\appdata\\local\\programs\\python\\python39\\lib\\site-packages (from requests->voxel51-eta<0.13,>=0.12.6->fiftyone==0.24.1) (3.3.2)\n",
      "Requirement already satisfied: idna<4,>=2.5 in c:\\users\\admin\\appdata\\local\\programs\\python\\python39\\lib\\site-packages (from requests->voxel51-eta<0.13,>=0.12.6->fiftyone==0.24.1) (3.6)\n",
      "Requirement already satisfied: certifi>=2017.4.17 in c:\\users\\admin\\appdata\\local\\programs\\python\\python39\\lib\\site-packages (from requests->voxel51-eta<0.13,>=0.12.6->fiftyone==0.24.1) (2023.11.17)\n",
      "Collecting hyperframe<7,>=6.0\n",
      "  Downloading hyperframe-6.0.1-py3-none-any.whl (12 kB)\n",
      "Collecting hpack<5,>=4.0\n",
      "  Downloading hpack-4.0.0-py3-none-any.whl (32 kB)\n",
      "Collecting zipp>=3.1.0; python_version < \"3.10\"\n",
      "  Downloading zipp-3.20.0-py3-none-any.whl (9.4 kB)\n",
      "Collecting httpcore==1.*\n",
      "  Downloading httpcore-1.0.5-py3-none-any.whl (77 kB)\n",
      "Collecting sniffio\n",
      "  Downloading sniffio-1.3.1-py3-none-any.whl (10 kB)\n",
      "Using legacy 'setup.py install' for glob2, since package 'wheel' is not installed.\n",
      "Installing collected packages: graphql-core, six, python-dateutil, strawberry-graphql, Jinja2, opencv-python-headless, argcomplete, glob2, attrs, jsonlines, future, multivolumefile, pybcj, pycryptodomex, pyppmd, psutil, pyzstd, inflate64, texttable, brotli, py7zr, dill, imageio, lazy-loader, tifffile, scikit-image, tabulate, retrying, tzdata, tzlocal, pytz, sortedcontainers, rarfile, voxel51-eta, dacite, exceptiongroup, sniffio, anyio, starlette, sse-starlette, cachetools, pprintpp, fiftyone-db, h11, wsproto, tomli, hyperframe, hpack, h2, taskgroup, priority, hypercorn, dnspython, pymongo, motor, xmltodict, fonttools, zipp, importlib-resources, cycler, pyparsing, contourpy, kiwisolver, matplotlib, aiofiles, fiftyone-brain, pandas, soupsieve, beautifulsoup4, humanize, mongoengine, httpcore, httpx, universal-analytics-python3, jmespath, botocore, s3transfer, boto3, sseclient-py, wcwidth, ftfy, wrapt, Deprecated, kaleido, fiftyone\n",
      "  Attempting uninstall: Jinja2\n",
      "    Found existing installation: Jinja2 3.1.3\n",
      "    Uninstalling Jinja2-3.1.3:\n",
      "      Successfully uninstalled Jinja2-3.1.3\n",
      "    Running setup.py install for glob2: started\n",
      "    Running setup.py install for glob2: finished with status 'done'\n",
      "Successfully installed Deprecated-1.2.14 Jinja2-3.0.3 aiofiles-24.1.0 anyio-4.4.0 argcomplete-3.5.0 attrs-24.2.0 beautifulsoup4-4.12.3 boto3-1.34.159 botocore-1.34.159 brotli-1.1.0 cachetools-5.4.0 contourpy-1.2.1 cycler-0.12.1 dacite-1.7.0 dill-0.3.8 dnspython-2.6.1 exceptiongroup-1.2.2 fiftyone-0.24.1 fiftyone-brain-0.16.1 fiftyone-db-1.1.5 fonttools-4.53.1 ftfy-6.2.3 future-1.0.0 glob2-0.7 graphql-core-3.2.3 h11-0.14.0 h2-4.1.0 hpack-4.0.0 httpcore-1.0.5 httpx-0.27.0 humanize-4.10.0 hypercorn-0.17.3 hyperframe-6.0.1 imageio-2.35.0 importlib-resources-6.4.0 inflate64-1.0.0 jmespath-1.0.1 jsonlines-4.0.0 kaleido-0.2.1 kiwisolver-1.4.5 lazy-loader-0.4 matplotlib-3.9.2 mongoengine-0.24.2 motor-3.5.1 multivolumefile-0.2.3 opencv-python-headless-4.10.0.84 pandas-2.2.2 pprintpp-0.4.0 priority-2.0.0 psutil-6.0.0 py7zr-0.22.0 pybcj-1.0.2 pycryptodomex-3.20.0 pymongo-4.8.0 pyparsing-3.1.2 pyppmd-1.1.0 python-dateutil-2.9.0.post0 pytz-2024.1 pyzstd-0.16.1 rarfile-4.2 retrying-1.3.4 s3transfer-0.10.2 scikit-image-0.24.0 six-1.16.0 sniffio-1.3.1 sortedcontainers-2.4.0 soupsieve-2.6 sse-starlette-0.10.3 sseclient-py-1.8.0 starlette-0.38.2 strawberry-graphql-0.138.1 tabulate-0.9.0 taskgroup-0.0.0a4 texttable-1.7.0 tifffile-2024.8.10 tomli-2.0.1 tzdata-2024.1 tzlocal-5.2 universal-analytics-python3-1.1.1 voxel51-eta-0.12.7 wcwidth-0.2.13 wrapt-1.16.0 wsproto-1.2.0 xmltodict-0.13.0 zipp-3.20.0\n"
     ]
    },
    {
     "name": "stderr",
     "output_type": "stream",
     "text": [
      "ERROR: After October 2020 you may experience errors when installing or updating packages. This is because pip will change the way that it resolves dependency conflicts.\n",
      "\n",
      "We recommend you use --use-feature=2020-resolver to test your packages with the new resolver before it becomes the default.\n",
      "\n",
      "botocore 1.34.159 requires urllib3<1.27,>=1.25.4; python_version < \"3.10\", but you'll have urllib3 2.1.0 which is incompatible.\n",
      "WARNING: You are using pip version 20.2.3; however, version 24.2 is available.\n",
      "You should consider upgrading via the 'c:\\users\\admin\\appdata\\local\\programs\\python\\python39\\python.exe -m pip install --upgrade pip' command.\n"
     ]
    },
    {
     "name": "stdout",
     "output_type": "stream",
     "text": [
      "Requirement already satisfied: torch in c:\\users\\admin\\appdata\\local\\programs\\python\\python39\\lib\\site-packages (2.2.2)\n",
      "Collecting torchvision\n",
      "  Downloading torchvision-0.19.0-1-cp39-cp39-win_amd64.whl (1.3 MB)\n",
      "Collecting torchaudio\n",
      "  Downloading torchaudio-2.4.0-cp39-cp39-win_amd64.whl (2.4 MB)\n",
      "Requirement already satisfied: sympy in c:\\users\\admin\\appdata\\local\\programs\\python\\python39\\lib\\site-packages (from torch) (1.12)\n",
      "Requirement already satisfied: filelock in c:\\users\\admin\\appdata\\local\\programs\\python\\python39\\lib\\site-packages (from torch) (3.13.4)\n",
      "Requirement already satisfied: networkx in c:\\users\\admin\\appdata\\local\\programs\\python\\python39\\lib\\site-packages (from torch) (3.2.1)\n",
      "Requirement already satisfied: fsspec in c:\\users\\admin\\appdata\\local\\programs\\python\\python39\\lib\\site-packages (from torch) (2024.3.1)\n",
      "Requirement already satisfied: typing-extensions>=4.8.0 in c:\\users\\admin\\appdata\\local\\programs\\python\\python39\\lib\\site-packages (from torch) (4.11.0)\n",
      "Requirement already satisfied: jinja2 in c:\\users\\admin\\appdata\\local\\programs\\python\\python39\\lib\\site-packages (from torch) (3.0.3)\n",
      "Requirement already satisfied: pillow!=8.3.*,>=5.3.0 in c:\\users\\admin\\appdata\\local\\programs\\python\\python39\\lib\\site-packages (from torchvision) (10.3.0)\n",
      "Requirement already satisfied: numpy<2 in c:\\users\\admin\\appdata\\local\\programs\\python\\python39\\lib\\site-packages (from torchvision) (1.26.4)\n",
      "Requirement already satisfied: mpmath>=0.19 in c:\\users\\admin\\appdata\\local\\programs\\python\\python39\\lib\\site-packages (from sympy->torch) (1.3.0)\n",
      "Requirement already satisfied: MarkupSafe>=2.0 in c:\\users\\admin\\appdata\\local\\programs\\python\\python39\\lib\\site-packages (from jinja2->torch) (2.1.5)\n",
      "Installing collected packages: torchvision, torchaudio\n",
      "Successfully installed torchaudio-2.4.0 torchvision-0.19.0\n"
     ]
    },
    {
     "name": "stderr",
     "output_type": "stream",
     "text": [
      "ERROR: After October 2020 you may experience errors when installing or updating packages. This is because pip will change the way that it resolves dependency conflicts.\n",
      "\n",
      "We recommend you use --use-feature=2020-resolver to test your packages with the new resolver before it becomes the default.\n",
      "\n",
      "torchvision 0.19.0 requires torch==2.4.0, but you'll have torch 2.2.2 which is incompatible.\n",
      "torchaudio 2.4.0 requires torch==2.4.0, but you'll have torch 2.2.2 which is incompatible.\n",
      "WARNING: You are using pip version 20.2.3; however, version 24.2 is available.\n",
      "You should consider upgrading via the 'c:\\users\\admin\\appdata\\local\\programs\\python\\python39\\python.exe -m pip install --upgrade pip' command.\n"
     ]
    }
   ],
   "source": [
    "! pip install fiftyone==0.24.1\n",
    "! pip install torch torchvision torchaudio\n"
   ]
  },
  {
   "cell_type": "markdown",
   "id": "fb9afb40",
   "metadata": {
    "id": "fb9afb40"
   },
   "source": [
    "Load dữ liệu keyframe từ thư mục chứa keyframe. Mỗi ảnh và thông tin đi kèm sau này sẽ được lưu trữ trong một Sample. Tất cả các Sample được lưu trong Dataset."
   ]
  },
  {
   "cell_type": "code",
   "execution_count": 3,
   "id": "357d4489",
   "metadata": {
    "id": "357d4489"
   },
   "outputs": [],
   "source": [
    "import fiftyone as fo\n",
    "import fiftyone.brain as fob\n",
    "import numpy as np\n",
    "from glob import glob\n",
    "import json\n",
    "import os\n",
    "\n"
   ]
  },
  {
   "cell_type": "markdown",
   "id": "36b7ba43",
   "metadata": {
    "id": "36b7ba43"
   },
   "source": [
    "Load dữ liệu keyframe từ thư mục chứa keyframe. Trong hướng dẫn này tất cả các file Keyframes_L*.zip được giải nén vào thư mục `D:\\AIC\\Keyframes`. Mỗi ảnh và thông tin đi kèm sau này sẽ được lưu trữ trong một `Sample`. Tất cả các `Sample` được lưu trong `Dataset`."
   ]
  },
  {
   "cell_type": "code",
   "execution_count": 57,
   "id": "9e072688",
   "metadata": {
    "id": "9e072688"
   },
   "outputs": [
    {
     "name": "stdout",
     "output_type": "stream",
     "text": []
    },
    {
     "name": "stdout",
     "output_type": "stream",
     "text": [
      " 100% |███████████████| 7658/7658 [1.2s elapsed, 0s remaining, 6.2K samples/s]         \n"
     ]
    }
   ],
   "source": [
    "dataset = fo.Dataset.from_images_dir('D:\\\\AICBaseline\\\\KeyFrames_L01\\\\keyframes', name=None, tags=None, recursive=True)"
   ]
  },
  {
   "cell_type": "markdown",
   "id": "9b89e71c",
   "metadata": {
    "id": "9b89e71c"
   },
   "source": [
    "Sau khi dữ liệu đã load lên xong. Bạn có thể truy cập vào đường vào ứng dụng web của fiftyone từ [http://localhost:5151](http://localhost:5151)"
   ]
  },
  {
   "cell_type": "code",
   "execution_count": 59,
   "id": "58be11b8",
   "metadata": {
    "id": "58be11b8"
   },
   "outputs": [
    {
     "name": "stdout",
     "output_type": "stream",
     "text": [
      "Session launched. Run `session.show()` to open the App in a cell output.\n"
     ]
    }
   ],
   "source": [
    "session = fo.launch_app(dataset, auto=False)"
   ]
  },
  {
   "cell_type": "markdown",
   "id": "078ce744",
   "metadata": {
    "id": "078ce744"
   },
   "source": [
    "Hoặc bạn có thể chạy cell bên dưới để mở tab mới cho ứng dụng web fiftyone"
   ]
  },
  {
   "cell_type": "code",
   "execution_count": 11,
   "id": "bce0d9ce",
   "metadata": {
    "id": "bce0d9ce"
   },
   "outputs": [
    {
     "data": {
      "application/javascript": "window.open('http://localhost:5151/');",
      "text/plain": [
       "<IPython.core.display.Javascript object>"
      ]
     },
     "metadata": {},
     "output_type": "display_data"
    }
   ],
   "source": [
    "session.open_tab()"
   ]
  },
  {
   "cell_type": "markdown",
   "id": "28298924",
   "metadata": {
    "id": "28298924"
   },
   "source": [
    "### Trích xuất thêm thông tin tên của video và frameid\n",
    "Thông tin `video` và `frameid` sẽ được lấy từ tên của tập tin keyframe."
   ]
  },
  {
   "cell_type": "code",
   "execution_count": 61,
   "id": "a8ee02ad",
   "metadata": {
    "id": "a8ee02ad"
   },
   "outputs": [],
   "source": [
    "for sample in dataset:\n",
    "    _, sample['video'], sample['frameid'] = sample['filepath'][:-4].rsplit('\\\\', 2)\n",
    "    sample.save()"
   ]
  },
  {
   "cell_type": "markdown",
   "id": "11d66008",
   "metadata": {
    "id": "11d66008"
   },
   "source": [
    "Bạn có thể xem `Sample` đầu tiên của `Dataset` bằng lệnh sau:"
   ]
  },
  {
   "cell_type": "code",
   "execution_count": 63,
   "id": "6997ef1c",
   "metadata": {
    "id": "6997ef1c"
   },
   "outputs": [
    {
     "name": "stdout",
     "output_type": "stream",
     "text": [
      "<Sample: {\n",
      "    'id': '66b81e861c1021e87278f18d',\n",
      "    'media_type': 'image',\n",
      "    'filepath': 'D:\\\\AICBaseline\\\\Keyframes_L01\\\\keyframes\\\\L01_V001\\\\0001.jpg',\n",
      "    'tags': [],\n",
      "    'metadata': None,\n",
      "    'video': 'L01_V001',\n",
      "    'frameid': '0001',\n",
      "}>\n"
     ]
    }
   ],
   "source": [
    "print(dataset.first())"
   ]
  },
  {
   "cell_type": "markdown",
   "id": "4309a34f",
   "metadata": {
    "id": "4309a34f"
   },
   "source": [
    "### Thêm thông tin kết quả của object detection.\n",
    "\n",
    "Bước này có thể tốn của bạn nhiều thời gian để đọc hết tất cả các dữ liệu về object detection. Bạn có thể bỏ qua cell này và chạy cell này sau nếu muốn thử thêm các thông tin về vector CLIP embedding trước."
   ]
  },
  {
   "cell_type": "code",
   "execution_count": 66,
   "id": "ad1c4395",
   "metadata": {
    "id": "ad1c4395"
   },
   "outputs": [],
   "source": [
    "for sample in dataset:\n",
    "    object_path = f\"D:\\\\AICBaseline\\\\objects-sample\\\\objects\\\\{sample['video']}\\\\{sample['frameid']}.json\"\n",
    "    with open(object_path) as jsonfile:\n",
    "        det_data = json.load(jsonfile)\n",
    "    detections = []\n",
    "    for cls, box, score in zip(det_data['detection_class_entities'], det_data['detection_boxes'], det_data['detection_scores']):\n",
    "        # Convert to [top-left-x, top-left-y, width, height]\n",
    "        boxf = [float(box[1]), float(box[0]), float(box[3]) - float(box[1]), float(box[2]) - float(box[0])]\n",
    "        scoref = float(score)\n",
    "\n",
    "        # Only add objects with confidence > 0.4\n",
    "        if scoref > 0.4:\n",
    "            detections.append(\n",
    "                fo.Detection(\n",
    "                    label=cls,\n",
    "                    bounding_box= boxf,\n",
    "                    confidence=float(score)\n",
    "                )\n",
    "            )\n",
    "    sample[\"object_faster_rcnn\"] = fo.Detections(detections=detections)\n",
    "    sample.save()\n"
   ]
  },
  {
   "cell_type": "markdown",
   "id": "e287dbb4",
   "metadata": {
    "id": "e287dbb4"
   },
   "source": [
    "### Thêm thông tin CLIP embedding."
   ]
  },
  {
   "cell_type": "code",
   "execution_count": 80,
   "id": "58d5d9ca",
   "metadata": {
    "id": "58d5d9ca"
   },
   "outputs": [],
   "source": [
    "all_keyframe = glob('D:\\\\AICBaseline\\\\KeyFrames_L01\\\\keyframes\\\\*\\\\*.jpg')\n",
    "video_keyframe_dict = {}\n",
    "all_video = glob('D:\\\\AICBaseline\\\\KeyFrames_L01\\\\keyframes\\\\*')\n",
    "all_video = [v.rsplit('\\\\',1)[-1] for v in all_video]"
   ]
  },
  {
   "cell_type": "markdown",
   "id": "53460b70",
   "metadata": {
    "id": "53460b70"
   },
   "source": [
    "Đọc thông tin clip embedding được cung cấp.\n",
    "\n",
    "Lưu ý: Các bạn cần tải đúng bản CLIP embedding từ model **CLIP ViT-B/32**"
   ]
  },
  {
   "cell_type": "markdown",
   "id": "cb927629",
   "metadata": {
    "id": "cb927629"
   },
   "source": [
    "Tạo dictionary `video_keyframe_dict` với `video_keyframe_dict[video]` thông tin danh sách `keyframe` của `video`"
   ]
  },
  {
   "cell_type": "code",
   "execution_count": 84,
   "id": "f33da133",
   "metadata": {
    "id": "f33da133"
   },
   "outputs": [],
   "source": [
    "for kf in all_keyframe:\n",
    "    _, vid, kf = kf[:-4].rsplit('\\\\',2)\n",
    "    if vid not in video_keyframe_dict.keys():\n",
    "        video_keyframe_dict[vid] = [kf]\n",
    "    else:\n",
    "        video_keyframe_dict[vid].append(kf)"
   ]
  },
  {
   "cell_type": "markdown",
   "id": "faefe0bf",
   "metadata": {
    "id": "faefe0bf"
   },
   "source": [
    "Do thông tin vector CLIP embedding được cung cấp được lưu theo từng video nhầm mục đích tối ưu thời gian đọc dữ liệu. Cần sort lại danh sách `keyframe` của từng `video` để đảm bảo thứ tự đọc đúng với vector embedding được cung cấp."
   ]
  },
  {
   "cell_type": "code",
   "execution_count": 87,
   "id": "4b0fad7a",
   "metadata": {
    "id": "4b0fad7a"
   },
   "outputs": [],
   "source": [
    "for k,v in video_keyframe_dict.items():\n",
    "    video_keyframe_dict[k] = sorted(v)"
   ]
  },
  {
   "cell_type": "markdown",
   "id": "9d99d121",
   "metadata": {
    "id": "9d99d121"
   },
   "source": [
    "Tạo dictionary `embedding_dict` với `embedding_dict[video][keyframe]` lưu thông tin vector CLIP embedding của `keyframe` trong `video` tương ứng"
   ]
  },
  {
   "cell_type": "code",
   "execution_count": 90,
   "id": "a5d94d7b",
   "metadata": {
    "id": "a5d94d7b"
   },
   "outputs": [],
   "source": [
    "embedding_dict = {}\n",
    "for v in all_video:\n",
    "    clip_path = f'D:\\\\AICBaseline\\\\clip-features-vit-b32-sample\\\\clip-features\\\\{v}.npy'\n",
    "    a = np.load(clip_path)\n",
    "    embedding_dict[v] = {}\n",
    "    for i,k in enumerate(video_keyframe_dict[v]):\n",
    "        embedding_dict[v][k] = a[i]\n"
   ]
  },
  {
   "cell_type": "markdown",
   "id": "5ea0432e",
   "metadata": {
    "id": "5ea0432e"
   },
   "source": [
    "Tạo danh sách `clip_embedding` ứng với danh sách `sample` trong `dataset`."
   ]
  },
  {
   "cell_type": "code",
   "execution_count": 92,
   "id": "1ad16b5c",
   "metadata": {
    "id": "1ad16b5c"
   },
   "outputs": [],
   "source": [
    "clip_embeddings = []\n",
    "for sample in dataset:\n",
    "    clip_embedding = embedding_dict[sample['video']][sample['frameid']]\n",
    "    clip_embeddings.append(clip_embedding)\n"
   ]
  },
  {
   "cell_type": "code",
   "execution_count": 93,
   "id": "33389802-2683-4ff7-a514-6ba2f42a18c1",
   "metadata": {},
   "outputs": [
    {
     "data": {
      "text/plain": [
       "dict_keys(['L01_V001', 'L01_V002', 'L01_V003', 'L01_V004', 'L01_V005', 'L01_V006', 'L01_V007', 'L01_V008', 'L01_V009', 'L01_V010', 'L01_V011', 'L01_V012', 'L01_V013', 'L01_V014', 'L01_V015', 'L01_V016', 'L01_V017', 'L01_V018', 'L01_V019', 'L01_V020', 'L01_V021', 'L01_V022', 'L01_V023', 'L01_V024', 'L01_V025', 'L01_V026', 'L01_V027', 'L01_V028', 'L01_V029', 'L01_V030', 'L01_V031'])"
      ]
     },
     "execution_count": 93,
     "metadata": {},
     "output_type": "execute_result"
    }
   ],
   "source": [
    "embedding_dict.keys()"
   ]
  },
  {
   "cell_type": "code",
   "execution_count": 94,
   "id": "655d2feb",
   "metadata": {
    "id": "655d2feb"
   },
   "outputs": [
    {
     "data": {
      "text/plain": [
       "<fiftyone.brain.internal.core.sklearn.SklearnSimilarityIndex at 0x21304feb0b0>"
      ]
     },
     "execution_count": 94,
     "metadata": {},
     "output_type": "execute_result"
    }
   ],
   "source": [
    "fob.compute_similarity(\n",
    "    dataset,\n",
    "    model=\"clip-vit-base32-torch\",      # store model's name for future use\n",
    "    embeddings=clip_embeddings,          # precomputed image embeddings\n",
    "    brain_key=\"img_sim\",\n",
    ")"
   ]
  },
  {
   "cell_type": "markdown",
   "id": "99223338",
   "metadata": {
    "id": "99223338"
   },
   "source": [
    "## Từ đây các bạn có thể thử các tính năng search, filter trên ứng dụng fiftyone."
   ]
  },
  {
   "cell_type": "code",
   "execution_count": null,
   "id": "46605386",
   "metadata": {
    "id": "46605386"
   },
   "outputs": [],
   "source": [
    "# Bạn cần phải cài version umap-learn hỗ trợ.\n",
    "# fob.compute_visualization(\n",
    "#     dataset,\n",
    "#     embeddings=clip_embeddings,\n",
    "#     brain_key=\"img_viz\"\n",
    "# )\n"
   ]
  },
  {
   "cell_type": "markdown",
   "id": "381972d8",
   "metadata": {
    "id": "381972d8"
   },
   "source": []
  }
 ],
 "metadata": {
  "colab": {
   "provenance": []
  },
  "kernelspec": {
   "display_name": "Python 3 (ipykernel)",
   "language": "python",
   "name": "python3"
  },
  "language_info": {
   "codemirror_mode": {
    "name": "ipython",
    "version": 3
   },
   "file_extension": ".py",
   "mimetype": "text/x-python",
   "name": "python",
   "nbconvert_exporter": "python",
   "pygments_lexer": "ipython3",
   "version": "3.12.0"
  }
 },
 "nbformat": 4,
 "nbformat_minor": 5
}
